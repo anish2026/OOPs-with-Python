{
 "cells": [
  {
   "cell_type": "code",
   "execution_count": 1,
   "metadata": {},
   "outputs": [
    {
     "name": "stdout",
     "output_type": "stream",
     "text": [
      "Anish\n",
      "23\n"
     ]
    },
    {
     "ename": "AttributeError",
     "evalue": "'Emp' object has no attribute '__sal'",
     "output_type": "error",
     "traceback": [
      "\u001b[1;31m---------------------------------------------------------------------------\u001b[0m",
      "\u001b[1;31mAttributeError\u001b[0m                            Traceback (most recent call last)",
      "\u001b[1;32m<ipython-input-1-e86ede262e99>\u001b[0m in \u001b[0;36m<module>\u001b[1;34m\u001b[0m\n\u001b[0;32m     11\u001b[0m \u001b[0mprint\u001b[0m\u001b[1;33m(\u001b[0m\u001b[0me1\u001b[0m\u001b[1;33m.\u001b[0m\u001b[0mname\u001b[0m\u001b[1;33m)\u001b[0m\u001b[1;33m\u001b[0m\u001b[1;33m\u001b[0m\u001b[0m\n\u001b[0;32m     12\u001b[0m \u001b[0mprint\u001b[0m\u001b[1;33m(\u001b[0m\u001b[0me1\u001b[0m\u001b[1;33m.\u001b[0m\u001b[0mage\u001b[0m\u001b[1;33m)\u001b[0m\u001b[1;33m\u001b[0m\u001b[1;33m\u001b[0m\u001b[0m\n\u001b[1;32m---> 13\u001b[1;33m \u001b[0mprint\u001b[0m\u001b[1;33m(\u001b[0m\u001b[0me1\u001b[0m\u001b[1;33m.\u001b[0m\u001b[0m__sal\u001b[0m\u001b[1;33m)\u001b[0m  \u001b[1;31m# here we used __sal and this is used for encapsulation. We restricted the attribute sal.\u001b[0m\u001b[1;33m\u001b[0m\u001b[1;33m\u001b[0m\u001b[0m\n\u001b[0m\u001b[0;32m     14\u001b[0m                  \u001b[1;31m# Since we have created the data member as __salary so it has become a private member and cannot be accessed\u001b[0m\u001b[1;33m\u001b[0m\u001b[1;33m\u001b[0m\u001b[1;33m\u001b[0m\u001b[0m\n\u001b[0;32m     15\u001b[0m                  \u001b[1;31m#  outside the class directly\u001b[0m\u001b[1;33m\u001b[0m\u001b[1;33m\u001b[0m\u001b[1;33m\u001b[0m\u001b[0m\n",
      "\u001b[1;31mAttributeError\u001b[0m: 'Emp' object has no attribute '__sal'"
     ]
    }
   ],
   "source": [
    "########################      ENCAPSULATION          ####################################\n",
    "\n",
    "class Emp:\n",
    "    \n",
    "    def __init__(self,name,age,sal):\n",
    "        self.name=name\n",
    "        self.age=age\n",
    "        self.sal=sal\n",
    "        \n",
    "e1=Emp(\"Anish\",23,450000)\n",
    "print(e1.name)\n",
    "print(e1.age)\n",
    "print(e1.__sal)  # here we used __sal and this is used for encapsulation. We restricted the attribute sal.\n",
    "                 # Since we have created the data member as __salary so it has become a private member and cannot be accessed \n",
    "                 #  outside the class directly"
   ]
  },
  {
   "cell_type": "code",
   "execution_count": 2,
   "metadata": {},
   "outputs": [
    {
     "name": "stdout",
     "output_type": "stream",
     "text": [
      "Anish 23 24500\n"
     ]
    }
   ],
   "source": [
    "########################      Achieving Encapsulation   ##############################\n",
    "\n",
    "#Now to access such private members , we must define instance methods in the class \n",
    "\n",
    "\n",
    "#From outside the class we must call these methods using object instead of directly accessing data members\n",
    "\n",
    "class Emp:\n",
    "    \n",
    "    def __init__(self,name,age,sal):\n",
    "        self.__name = name\n",
    "        self.__age = age\n",
    "        self.__sal = sal\n",
    "        \n",
    "    def show(self):\n",
    "        print(self.__name,self.__age,self.__sal)\n",
    "        \n",
    "e=Emp(\"Anish\",23,24500)\n",
    "e.show()"
   ]
  },
  {
   "cell_type": "code",
   "execution_count": 3,
   "metadata": {},
   "outputs": [
    {
     "ename": "AttributeError",
     "evalue": "'Emp' object has no attribute 'show'",
     "output_type": "error",
     "traceback": [
      "\u001b[1;31m---------------------------------------------------------------------------\u001b[0m",
      "\u001b[1;31mAttributeError\u001b[0m                            Traceback (most recent call last)",
      "\u001b[1;32m<ipython-input-3-9ba1dafdc779>\u001b[0m in \u001b[0;36m<module>\u001b[1;34m\u001b[0m\n\u001b[0;32m     12\u001b[0m \u001b[1;33m\u001b[0m\u001b[0m\n\u001b[0;32m     13\u001b[0m \u001b[0me1\u001b[0m\u001b[1;33m=\u001b[0m\u001b[0mEmp\u001b[0m\u001b[1;33m(\u001b[0m\u001b[1;34m\"Anish\"\u001b[0m\u001b[1;33m,\u001b[0m\u001b[1;36m23\u001b[0m\u001b[1;33m,\u001b[0m\u001b[1;36m1500000\u001b[0m\u001b[1;33m)\u001b[0m\u001b[1;33m\u001b[0m\u001b[1;33m\u001b[0m\u001b[0m\n\u001b[1;32m---> 14\u001b[1;33m \u001b[0me1\u001b[0m\u001b[1;33m.\u001b[0m\u001b[0mshow\u001b[0m\u001b[1;33m(\u001b[0m\u001b[1;33m)\u001b[0m\u001b[1;33m\u001b[0m\u001b[1;33m\u001b[0m\u001b[0m\n\u001b[0m",
      "\u001b[1;31mAttributeError\u001b[0m: 'Emp' object has no attribute 'show'"
     ]
    }
   ],
   "source": [
    "# just like private data members we have private methods too and the syntax of writing is same , we just put double underscore\n",
    "# before the method name\n",
    "\n",
    "class Emp:\n",
    "    def __init__(self,name,age,sal):\n",
    "        self.name = name\n",
    "        self.age = age\n",
    "        self.sal = sal\n",
    "        \n",
    "    def __show(self):                             # here show is being encapsulated, so we cannot directly call it\n",
    "        print(self.name,self.age,self.sal)\n",
    "        \n",
    "e1=Emp(\"Anish\",23,1500000)\n",
    "e1.show()"
   ]
  },
  {
   "cell_type": "code",
   "execution_count": 4,
   "metadata": {},
   "outputs": [
    {
     "name": "stdout",
     "output_type": "stream",
     "text": [
      "Anish 23 1500000\n"
     ]
    }
   ],
   "source": [
    "class Emp:\n",
    "    def __init__(self,name,age,sal):\n",
    "        self.__name = name\n",
    "        self.__age = age\n",
    "        self.__sal = sal\n",
    "        \n",
    "    def show(self):                           \n",
    "        print(self.__name,self.__age,self.__sal)\n",
    "        \n",
    "e1=Emp(\"Anish\",23,1500000)\n",
    "e1.show()\n",
    "# accessing the data variables and we can do the same with other manner too"
   ]
  },
  {
   "cell_type": "code",
   "execution_count": 5,
   "metadata": {},
   "outputs": [
    {
     "name": "stdout",
     "output_type": "stream",
     "text": [
      "Age: 25 Name: Rahul Salary: 30000.0\n",
      "Age: 25 Name: Rahul Salary: 30000.0\n"
     ]
    }
   ],
   "source": [
    "class Emp:\n",
    "\tdef __init__(self):\n",
    "\t\tself.__age=25\n",
    "\t\tself.__name=\"Rahul\"\n",
    "\t\tself.__salary=30000.0\n",
    "\tdef show(self):\n",
    "\t\tprint(\"Age:\",self.__age,\"Name:\",self.__name,\"Salary:\",self.__salary)\n",
    "\t\n",
    "e=Emp()\n",
    "e.show()\n",
    "print(\"Age:\",e._Emp__age,\"Name:\",e._Emp__name,\"Salary:\",e._Emp__salary) "
   ]
  },
  {
   "cell_type": "code",
   "execution_count": null,
   "metadata": {},
   "outputs": [],
   "source": []
  }
 ],
 "metadata": {
  "kernelspec": {
   "display_name": "Python 3",
   "language": "python",
   "name": "python3"
  },
  "language_info": {
   "codemirror_mode": {
    "name": "ipython",
    "version": 3
   },
   "file_extension": ".py",
   "mimetype": "text/x-python",
   "name": "python",
   "nbconvert_exporter": "python",
   "pygments_lexer": "ipython3",
   "version": "3.7.4"
  }
 },
 "nbformat": 4,
 "nbformat_minor": 2
}

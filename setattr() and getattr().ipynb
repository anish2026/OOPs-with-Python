{
 "cells": [
  {
   "cell_type": "code",
   "execution_count": 1,
   "metadata": {},
   "outputs": [
    {
     "name": "stdout",
     "output_type": "stream",
     "text": [
      "10\n",
      "20\n"
     ]
    }
   ],
   "source": [
    "# setattr() example\n",
    "\n",
    "class data:\n",
    "    pass\n",
    "d = data()\n",
    "d.value =10\n",
    "print(d.value)\n",
    "\n",
    "# setting attribute  \n",
    "\n",
    "setattr(d,\"value\",20)\n",
    "print(d.value)\n",
    "\n",
    "'''\n",
    "    The setattr() function is useful in dynamic programming where the attribute name is not known at the time of writing the code.\n",
    "        In that case, we can’t use the dot operator. \n",
    "        For example, taking user input to set an object attribute and it’s value.\n",
    "'''"
   ]
  },
  {
   "cell_type": "code",
   "execution_count": 2,
   "metadata": {},
   "outputs": [
    {
     "name": "stdout",
     "output_type": "stream",
     "text": [
      "Enter the attribute name: Name\n",
      "Enter the attribute value: Anish\n",
      "Data attribute = Name and its value = Anish\n"
     ]
    }
   ],
   "source": [
    "# setarr() and getattr() \n",
    "\n",
    "class data:\n",
    "    pass\n",
    "d=data()\n",
    "\n",
    "attr_name = input(\"Enter the attribute name: \")\n",
    "attr_value = input(\"Enter the attribute value: \")\n",
    "\n",
    "setattr(d,attr_name,attr_value)\n",
    "print('Data attribute =', attr_name, 'and its value =', getattr(d, attr_name))"
   ]
  },
  {
   "cell_type": "code",
   "execution_count": null,
   "metadata": {},
   "outputs": [],
   "source": []
  },
  {
   "cell_type": "code",
   "execution_count": 5,
   "metadata": {},
   "outputs": [
    {
     "name": "stdout",
     "output_type": "stream",
     "text": [
      "name : Anish\n",
      "maths : 92\n",
      "chemistry : 78\n",
      "physics : 78\n",
      "english : 95\n",
      "\n",
      "name : Priya\n",
      "maths : 100\n",
      "chemistry : 100\n",
      "cuteness : Infinite\n"
     ]
    }
   ],
   "source": [
    "class student:\n",
    "    def __init__(self,**kwargs):\n",
    "        for key,value in kwargs.items():\n",
    "            setattr(self,key,value)\n",
    "            \n",
    "    def show(self):\n",
    "        for key in self.__dict__.keys():\n",
    "                print(key,\":\",getattr(self,key))\n",
    "                \n",
    "s1= student(name=\"Anish\",maths =92,chemistry=78,physics=78,english=95)\n",
    "s2= student(name=\"Priya\",maths =100,chemistry =100,cuteness= \"Infinite\")\n",
    "s1.show()\n",
    "print()\n",
    "s2.show()"
   ]
  },
  {
   "cell_type": "code",
   "execution_count": null,
   "metadata": {},
   "outputs": [],
   "source": []
  }
 ],
 "metadata": {
  "kernelspec": {
   "display_name": "Python 3",
   "language": "python",
   "name": "python3"
  },
  "language_info": {
   "codemirror_mode": {
    "name": "ipython",
    "version": 3
   },
   "file_extension": ".py",
   "mimetype": "text/x-python",
   "name": "python",
   "nbconvert_exporter": "python",
   "pygments_lexer": "ipython3",
   "version": "3.7.4"
  }
 },
 "nbformat": 4,
 "nbformat_minor": 2
}

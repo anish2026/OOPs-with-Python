{
 "cells": [
  {
   "cell_type": "code",
   "execution_count": 1,
   "metadata": {},
   "outputs": [],
   "source": [
    "################################## MULTIPLE INHERITANCE #################################\n",
    "\n",
    "#syntax:\n",
    "class A:\n",
    "    pass\n",
    "\t# properties of class A \n",
    "\n",
    "class B: \n",
    "    pass\n",
    "\t#properties of class B \n",
    "\n",
    "class C(A,B): \n",
    "    pass\n",
    "\t# class C inheriting property of class A \n",
    "\t# class C inheriting property of class B\n",
    "\t# more properties of class C\n"
   ]
  },
  {
   "cell_type": "code",
   "execution_count": 4,
   "metadata": {},
   "outputs": [
    {
     "name": "stdout",
     "output_type": "stream",
     "text": [
      "Anish\n",
      "18\n",
      "192\n",
      "98\n",
      "AI\n"
     ]
    }
   ],
   "source": [
    "class person:\n",
    "    def __init__(self,name,age):\n",
    "        self.name = name\n",
    "        self.age = age\n",
    "        \n",
    "    def getName(self):\n",
    "        return self.name\n",
    "    def getAge(self):\n",
    "        return self.age\n",
    "    \n",
    "    #we did nothing just called all instances by a specific method\n",
    "    \n",
    "class student:\n",
    "    def __init__(self,roll,marks):\n",
    "        self.roll=roll\n",
    "        self.marks=marks\n",
    "        \n",
    "    def getRoll(self):\n",
    "        return self.roll\n",
    "    def getMarks(self):\n",
    "        return self.marks\n",
    "    \n",
    "    #same as above\n",
    "        \n",
    "class stream(person,student):\n",
    "    def __init__(self,name,age,roll,marks,stream):\n",
    "        person.__init__(self,name,age)              \n",
    "        student.__init__(self,roll,marks)\n",
    "        self.stream=stream\n",
    "        \n",
    "    def getStream(self):\n",
    "        return self.stream\n",
    "    \n",
    "obj = stream(\"Anish\",18,192,98,\"AI\")\n",
    "print(obj.getName())\n",
    "print(obj.getAge())\n",
    "print(obj.getRoll())\n",
    "print(obj.getMarks())\n",
    "print(obj.getStream())\n",
    "        "
   ]
  },
  {
   "cell_type": "code",
   "execution_count": null,
   "metadata": {},
   "outputs": [],
   "source": []
  }
 ],
 "metadata": {
  "kernelspec": {
   "display_name": "Python 3",
   "language": "python",
   "name": "python3"
  },
  "language_info": {
   "codemirror_mode": {
    "name": "ipython",
    "version": 3
   },
   "file_extension": ".py",
   "mimetype": "text/x-python",
   "name": "python",
   "nbconvert_exporter": "python",
   "pygments_lexer": "ipython3",
   "version": "3.7.4"
  }
 },
 "nbformat": 4,
 "nbformat_minor": 2
}

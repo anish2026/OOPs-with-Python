{
 "cells": [
  {
   "cell_type": "code",
   "execution_count": null,
   "metadata": {},
   "outputs": [],
   "source": [
    "'''\n",
    "1)INSTANCE METHODS EXAMPLE \n",
    "\n",
    "Write a program to create a class called Circle , having an instance member called radius. Provide following \n",
    "instance methods in your class:\n",
    "__init___() : This method should initialize radius with the parameter passed\n",
    "cal_area(): This method should calculate and print the radius of the Circle\n",
    "cal_circumference(): This method should calculate and print the circumference of the Circle\n",
    "Finally , in the main script , create a Circle object , initialize radius with user input and calculate and display\n",
    "it’s area and circumference'''"
   ]
  },
  {
   "cell_type": "code",
   "execution_count": 1,
   "metadata": {},
   "outputs": [
    {
     "name": "stdout",
     "output_type": "stream",
     "text": [
      "12\n"
     ]
    },
    {
     "data": {
      "text/plain": [
       "75.39822368615503"
      ]
     },
     "execution_count": 1,
     "metadata": {},
     "output_type": "execute_result"
    }
   ],
   "source": [
    "import math\n",
    "class Circle():\n",
    "    def __init__(self,radius):\n",
    "        self.radius = radius\n",
    "    \n",
    "    def cal_area(self):\n",
    "        return (math.pi)*radius*radius\n",
    "    \n",
    "    def cal_circumference(self):\n",
    "        return 2*(math.pi)*radius\n",
    "\n",
    "radius=int(input())\n",
    "obj=Circle(radius)\n",
    "obj.cal_circumference()"
   ]
  },
  {
   "cell_type": "code",
   "execution_count": 2,
   "metadata": {},
   "outputs": [
    {
     "data": {
      "text/plain": [
       "452.3893421169302"
      ]
     },
     "execution_count": 2,
     "metadata": {},
     "output_type": "execute_result"
    }
   ],
   "source": [
    "obj.cal_area()"
   ]
  },
  {
   "cell_type": "code",
   "execution_count": null,
   "metadata": {},
   "outputs": [],
   "source": []
  }
 ],
 "metadata": {
  "kernelspec": {
   "display_name": "Python 3",
   "language": "python",
   "name": "python3"
  },
  "language_info": {
   "codemirror_mode": {
    "name": "ipython",
    "version": 3
   },
   "file_extension": ".py",
   "mimetype": "text/x-python",
   "name": "python",
   "nbconvert_exporter": "python",
   "pygments_lexer": "ipython3",
   "version": "3.7.4"
  }
 },
 "nbformat": 4,
 "nbformat_minor": 2
}

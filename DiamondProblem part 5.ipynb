{
 "cells": [
  {
   "cell_type": "code",
   "execution_count": 1,
   "metadata": {},
   "outputs": [
    {
     "name": "stdout",
     "output_type": "stream",
     "text": [
      "m of D is called\n"
     ]
    }
   ],
   "source": [
    "class A:\n",
    "    def m(self):\n",
    "        print(\"m of A is called\")\n",
    "        \n",
    "class B(A):\n",
    "    def m(self):\n",
    "        print(\"m of B is called\")\n",
    "        \n",
    "class C(A):\n",
    "    def m(self):\n",
    "        print(\"m of C is called\")\n",
    "          \n",
    "        \n",
    "class D(C,B):\n",
    "    def m(self):\n",
    "        print(\"m of D is called\")\n",
    "\n",
    "obj=D()\n",
    "obj.m()  "
   ]
  },
  {
   "cell_type": "code",
   "execution_count": null,
   "metadata": {},
   "outputs": [],
   "source": []
  }
 ],
 "metadata": {
  "kernelspec": {
   "display_name": "Python 3",
   "language": "python",
   "name": "python3"
  },
  "language_info": {
   "codemirror_mode": {
    "name": "ipython",
    "version": 3
   },
   "file_extension": ".py",
   "mimetype": "text/x-python",
   "name": "python",
   "nbconvert_exporter": "python",
   "pygments_lexer": "ipython3",
   "version": "3.7.4"
  }
 },
 "nbformat": 4,
 "nbformat_minor": 2
}

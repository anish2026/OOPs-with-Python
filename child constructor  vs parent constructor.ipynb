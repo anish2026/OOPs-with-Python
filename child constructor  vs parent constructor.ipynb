{
 "cells": [
  {
   "cell_type": "code",
   "execution_count": 1,
   "metadata": {},
   "outputs": [
    {
     "name": "stdout",
     "output_type": "stream",
     "text": [
      "calling parent\n"
     ]
    }
   ],
   "source": [
    "#As you can see, Python called the constructor of class parent , since child class doesn’t has any constructor defined \n",
    "\n",
    "class parent:\n",
    "    def __init__(self):\n",
    "        print(\"calling parent\")\n",
    "        \n",
    "class child(parent):\n",
    "    pass\n",
    "\n",
    "object = child()"
   ]
  },
  {
   "cell_type": "code",
   "execution_count": 2,
   "metadata": {},
   "outputs": [
    {
     "name": "stdout",
     "output_type": "stream",
     "text": [
      "calling child\n"
     ]
    }
   ],
   "source": [
    "#This time , Python did not call the constructor of class A as it found a constructor in B itself\n",
    "\n",
    "class parent:\n",
    "    def __init__(self):\n",
    "        print(\"caling parent\")\n",
    "        \n",
    "class child(parent):\n",
    "    def __init__(self):\n",
    "        print(\"calling child\")\n",
    "        \n",
    "object = child()"
   ]
  },
  {
   "cell_type": "code",
   "execution_count": null,
   "metadata": {},
   "outputs": [],
   "source": [
    "                    ####################### IMPORTANT POINTS ########################\n",
    "\n",
    "#1 Whenever we create a child class object , Python looks for __init__() method in child class.\n",
    "\n",
    "#2 If the child class doesn’t contain an  __init__() method then Python goes up in the inheritance chain and looks for \n",
    "#   the __init__() method of parent class \n",
    "\n",
    "#3  If the parent class contains __init__() , then it execute it .\n",
    "\n",
    "#4  Now an important point to notice is that if child class also has __init__() , then Python will not call parent’s __init__() \n",
    "   #method.\n",
    "\n",
    "#5  That is , unlike Java or C++ , Python does not automatically call the parent class __init__() if it finds an __init__() \n",
    "#method in child class\n",
    "\n"
   ]
  }
 ],
 "metadata": {
  "kernelspec": {
   "display_name": "Python 3",
   "language": "python",
   "name": "python3"
  },
  "language_info": {
   "codemirror_mode": {
    "name": "ipython",
    "version": 3
   },
   "file_extension": ".py",
   "mimetype": "text/x-python",
   "name": "python",
   "nbconvert_exporter": "python",
   "pygments_lexer": "ipython3",
   "version": "3.7.4"
  }
 },
 "nbformat": 4,
 "nbformat_minor": 2
}

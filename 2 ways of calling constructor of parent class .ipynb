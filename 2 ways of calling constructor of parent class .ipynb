{
 "cells": [
  {
   "cell_type": "code",
   "execution_count": null,
   "metadata": {},
   "outputs": [],
   "source": [
    "# Python call the constructor of class parent , since child class doesn’t has any constructor defined\n",
    "# Python will call the constructor of child class if child class has any constructor defined and at the same time it will not call \n",
    "# Now question is , how to solve this problem ??\n",
    "\n",
    "# There are two ways to call the constructor of parent class in the presence of the constructor of child class.\n",
    "#  1. call it using the name of parent class explicitly \n",
    "#  2. call it using the method super \n"
   ]
  },
  {
   "cell_type": "code",
   "execution_count": 18,
   "metadata": {},
   "outputs": [
    {
     "name": "stdout",
     "output_type": "stream",
     "text": [
      "calling parent\n",
      "calling child\n"
     ]
    }
   ],
   "source": [
    "#  1. call it using the name of parent class explicitly \n",
    "\n",
    "class parent:\n",
    "    def __init__(self):\n",
    "        print(\"calling parent\")\n",
    "        \n",
    "class child(parent):\n",
    "    def __init__(self):\n",
    "        parent.__init__(self)\n",
    "        print(\"calling child\")\n",
    "        \n",
    "obj = child()\n",
    "         "
   ]
  },
  {
   "cell_type": "code",
   "execution_count": 19,
   "metadata": {},
   "outputs": [
    {
     "name": "stdout",
     "output_type": "stream",
     "text": [
      "calling parent\n",
      "calling child\n"
     ]
    }
   ],
   "source": [
    "#  2. call it using the method super\n",
    "\n",
    "class parent:\n",
    "    def __init__(self):\n",
    "        print(\"calling parent\")\n",
    "        \n",
    "class child(parent):\n",
    "    def __init__(self):\n",
    "        super().__init__()\n",
    "        print(\"calling child\")\n",
    "        \n",
    "obj = child()"
   ]
  },
  {
   "cell_type": "code",
   "execution_count": null,
   "metadata": {},
   "outputs": [],
   "source": []
  },
  {
   "cell_type": "code",
   "execution_count": null,
   "metadata": {},
   "outputs": [],
   "source": []
  }
 ],
 "metadata": {
  "kernelspec": {
   "display_name": "Python 3",
   "language": "python",
   "name": "python3"
  },
  "language_info": {
   "codemirror_mode": {
    "name": "ipython",
    "version": 3
   },
   "file_extension": ".py",
   "mimetype": "text/x-python",
   "name": "python",
   "nbconvert_exporter": "python",
   "pygments_lexer": "ipython3",
   "version": "3.7.4"
  }
 },
 "nbformat": 4,
 "nbformat_minor": 2
}

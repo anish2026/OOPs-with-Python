{
 "cells": [
  {
   "cell_type": "code",
   "execution_count": 1,
   "metadata": {},
   "outputs": [
    {
     "name": "stdout",
     "output_type": "stream",
     "text": [
      "Name :  Anish\n",
      "Age :  20\n",
      "Roll no :  12\n",
      "Maths marks :  98\n",
      "English marks :  97\n",
      "Hindi marks :  96\n"
     ]
    },
    {
     "ename": "TypeError",
     "evalue": "__str__ returned non-string (type NoneType)",
     "output_type": "error",
     "traceback": [
      "\u001b[1;31m---------------------------------------------------------------------------\u001b[0m",
      "\u001b[1;31mTypeError\u001b[0m                                 Traceback (most recent call last)",
      "\u001b[1;32m<ipython-input-1-2b9f4c17609c>\u001b[0m in \u001b[0;36m<module>\u001b[1;34m\u001b[0m\n\u001b[0;32m     35\u001b[0m \u001b[1;33m\u001b[0m\u001b[0m\n\u001b[0;32m     36\u001b[0m \u001b[0ms1\u001b[0m\u001b[1;33m=\u001b[0m\u001b[0mmarks\u001b[0m\u001b[1;33m(\u001b[0m\u001b[1;34m\"Anish\"\u001b[0m\u001b[1;33m,\u001b[0m\u001b[1;36m20\u001b[0m\u001b[1;33m,\u001b[0m\u001b[1;36m12\u001b[0m\u001b[1;33m,\u001b[0m\u001b[1;36m98\u001b[0m\u001b[1;33m,\u001b[0m\u001b[1;36m97\u001b[0m\u001b[1;33m,\u001b[0m\u001b[1;36m96\u001b[0m\u001b[1;33m)\u001b[0m\u001b[1;33m\u001b[0m\u001b[1;33m\u001b[0m\u001b[0m\n\u001b[1;32m---> 37\u001b[1;33m \u001b[0mprint\u001b[0m\u001b[1;33m(\u001b[0m\u001b[0ms1\u001b[0m\u001b[1;33m)\u001b[0m\u001b[1;33m\u001b[0m\u001b[1;33m\u001b[0m\u001b[0m\n\u001b[0m\u001b[0;32m     38\u001b[0m \u001b[1;33m\u001b[0m\u001b[0m\n\u001b[0;32m     39\u001b[0m \u001b[1;33m\u001b[0m\u001b[0m\n",
      "\u001b[1;31mTypeError\u001b[0m: __str__ returned non-string (type NoneType)"
     ]
    }
   ],
   "source": [
    "#how to overcome this ??\n",
    "\n",
    "# This is just done by method overriding , we will do nothing but just overwrite the __repr__() method in child class with all\n",
    "# attributes we want as an output.\n",
    "\n",
    "# keeping the previous code same , just having a little addintion in child class\n",
    "\n",
    "class student:\n",
    "    \n",
    "    def __init__(self,name,age,roll):\n",
    "        self.name = name \n",
    "        self.age = age \n",
    "        self.roll = roll\n",
    "        \n",
    "    def __repr__(self):\n",
    "        print(\"Name : \",self.name)\n",
    "        print(\"Age : \",self.age)\n",
    "        print(\"Roll no : \",self.roll)\n",
    "        \n",
    "class marks(student):\n",
    "    \n",
    "    def __init__(self,name,age,roll,maths,english,hindi):\n",
    "        super().__init__(name,age,roll)\n",
    "        self.maths=maths\n",
    "        self.english = english\n",
    "        self.hindi = hindi\n",
    "        \n",
    "    def __repr__(self):\n",
    "        print(\"Name : \",self.name)\n",
    "        print(\"Age : \",self.age)\n",
    "        print(\"Roll no : \",self.roll)\n",
    "        print(\"Maths marks : \",self.maths)\n",
    "        print(\"English marks : \",self.english)\n",
    "        print(\"Hindi marks : \",self.hindi)\n",
    "        \n",
    "s1=marks(\"Anish\",20,12,98,97,96)\n",
    "print(s1)\n",
    "        \n",
    "        \n",
    "        "
   ]
  },
  {
   "cell_type": "code",
   "execution_count": null,
   "metadata": {},
   "outputs": [],
   "source": [
    "# Important note : the str error can be solved by using f string method, its super easy.\n",
    "\n",
    "#What we learnt ??\n",
    "\n",
    "# we learnt that we have to rewrite some methods of parent class to child class when we need to call all atrributes\n",
    "# together"
   ]
  }
 ],
 "metadata": {
  "kernelspec": {
   "display_name": "Python 3",
   "language": "python",
   "name": "python3"
  },
  "language_info": {
   "codemirror_mode": {
    "name": "ipython",
    "version": 3
   },
   "file_extension": ".py",
   "mimetype": "text/x-python",
   "name": "python",
   "nbconvert_exporter": "python",
   "pygments_lexer": "ipython3",
   "version": "3.7.4"
  }
 },
 "nbformat": 4,
 "nbformat_minor": 2
}

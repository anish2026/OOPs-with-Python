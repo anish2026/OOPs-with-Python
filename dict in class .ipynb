{
 "cells": [
  {
   "cell_type": "code",
   "execution_count": 1,
   "metadata": {},
   "outputs": [
    {
     "name": "stdout",
     "output_type": "stream",
     "text": [
      "{'name': 'Amit', 'age': 24, 'sal': 50000.0}\n"
     ]
    }
   ],
   "source": [
    "class Emp:\n",
    "    \n",
    "    def __init__(self):\n",
    "                self.name=\"Amit\"\n",
    "                self.age=24\n",
    "                self.sal=50000.0\n",
    "\n",
    "\n",
    "e1=Emp()\n",
    "print(e1.__dict__)"
   ]
  },
  {
   "cell_type": "code",
   "execution_count": 2,
   "metadata": {},
   "outputs": [
    {
     "name": "stdout",
     "output_type": "stream",
     "text": [
      "{'name': 'Amit', 'age': 24}\n",
      "{'name': 'Amit', 'age': 24, 'sal': 50000.0, 'depart': 'IT'}\n"
     ]
    }
   ],
   "source": [
    "# samjho bro samjho , instance variable hai sab q ki self h sab ke saath , ar maamla ye hai ki saare method me accessible hai \n",
    "class Emp:\n",
    "    def __init__(self):\n",
    "        self.name = \"Amit\"\n",
    "        self.age = 24\n",
    "    \n",
    "    def showsal(self):\n",
    "        self.sal = 50000.0\n",
    "        self.depart= \"IT\"\n",
    "e=Emp()\n",
    "print(e.__dict__)\n",
    "e.showsal()\n",
    "print(e.__dict__)"
   ]
  },
  {
   "cell_type": "code",
   "execution_count": 3,
   "metadata": {},
   "outputs": [
    {
     "name": "stdout",
     "output_type": "stream",
     "text": [
      "{'name': 'BMW', 'cost': 7000000, 'model': 'oo', 'design': 'not curvy', 'fuel': '5 Litre'}\n"
     ]
    }
   ],
   "source": [
    "#we can manipulate our data in __dict__()\n",
    "class cars:\n",
    "    def __init__(self):\n",
    "        self.name = \"BMW\"\n",
    "        self.cost = 7000000\n",
    "        self.model = \"oo\"\n",
    "        self.design=\"curvy\"\n",
    "        \n",
    "    def get_fuel(self):\n",
    "        self.fuel=\"5 Litre\"\n",
    "        \n",
    "obj=cars()\n",
    "obj.__dict__['design']=\"not curvy\"\n",
    "obj.get_fuel()\n",
    "print(obj.__dict__)"
   ]
  },
  {
   "cell_type": "code",
   "execution_count": null,
   "metadata": {},
   "outputs": [],
   "source": []
  },
  {
   "cell_type": "code",
   "execution_count": null,
   "metadata": {},
   "outputs": [],
   "source": []
  }
 ],
 "metadata": {
  "kernelspec": {
   "display_name": "Python 3",
   "language": "python",
   "name": "python3"
  },
  "language_info": {
   "codemirror_mode": {
    "name": "ipython",
    "version": 3
   },
   "file_extension": ".py",
   "mimetype": "text/x-python",
   "name": "python",
   "nbconvert_exporter": "python",
   "pygments_lexer": "ipython3",
   "version": "3.7.4"
  }
 },
 "nbformat": 4,
 "nbformat_minor": 2
}

{
 "cells": [
  {
   "cell_type": "code",
   "execution_count": null,
   "metadata": {},
   "outputs": [],
   "source": [
    "##################### Multilevel Inheritance ###########################\n",
    "\n",
    "#basic syntax \n",
    "\n",
    "class A: \n",
    "\t# properties of class A \n",
    "\n",
    "class B(A): \n",
    "\t# class B inheriting property of class A \n",
    "\t# more properties of class B \n",
    "\n",
    "class C(B): \n",
    "\t# class C inheriting property of class B \n",
    "\t# thus, class C also inherits properties of class A \n",
    "\t# more properties of class C"
   ]
  }
 ],
 "metadata": {
  "kernelspec": {
   "display_name": "Python 3",
   "language": "python",
   "name": "python3"
  },
  "language_info": {
   "codemirror_mode": {
    "name": "ipython",
    "version": 3
   },
   "file_extension": ".py",
   "mimetype": "text/x-python",
   "name": "python",
   "nbconvert_exporter": "python",
   "pygments_lexer": "ipython3",
   "version": "3.7.4"
  }
 },
 "nbformat": 4,
 "nbformat_minor": 2
}

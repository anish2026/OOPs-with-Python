{
 "cells": [
  {
   "cell_type": "code",
   "execution_count": 3,
   "metadata": {},
   "outputs": [
    {
     "name": "stdout",
     "output_type": "stream",
     "text": [
      "Person constructor called.....\n",
      "Emp constructor called...\n",
      "Manager constructor called...\n",
      "<bound method Manager.__repr__ of Age:12,Name:Anish,Id:192,Sal:1250000,Bonus:25000>\n"
     ]
    }
   ],
   "source": [
    "#Write a program to create 3 classes Person , Emp and Manager. \n",
    "\n",
    "class Person:\n",
    "    \n",
    "    def __init__(self,name,age):\n",
    "        self.name = name\n",
    "        self.age = age\n",
    "        print(\"Person constructor called.....\")\n",
    "        \n",
    "    def __repr__(self):\n",
    "        return f\"Age:{self.age},Name:{self.name}\"  \n",
    "\n",
    "class Emp(Person):\n",
    "    \n",
    "    def __init__(self,name,age,id,sal):\n",
    "        super().__init__(name,age)\n",
    "        self.id = id\n",
    "        self.sal = sal \n",
    "        print(\"Emp constructor called...\")\n",
    "        \n",
    "    def income(self):\n",
    "        return self.sal\n",
    "    \n",
    "    def __repr__(self):\n",
    "        return f\"Age:{self.age},Name:{self.name},Id:{self.id},Sal:{self,sal}\"\n",
    "    \n",
    "    \n",
    "class Manager(Emp):\n",
    "    \n",
    "    def __init__(self,name,age,id,sal,bonus):\n",
    "        super().__init__(name,age,id,sal)\n",
    "        self.bonus = bonus\n",
    "        print(\"Manager constructor called...\")\n",
    "        \n",
    "    def income(self):\n",
    "        return super().income() + self.bonus\n",
    "    \n",
    "    def __repr__(self):\n",
    "        return f\"Age:{self.age},Name:{self.name},Id:{self.id},Sal:{self.sal},Bonus:{self.bonus}\"\n",
    "        \n",
    "obj1 = Manager(\"Anish\",12,192,1250000,25000)\n",
    "print(obj1.__repr__)\n",
    "\n",
    "\n",
    "        \n",
    "    \n",
    "    \n",
    "            \n"
   ]
  },
  {
   "cell_type": "code",
   "execution_count": 4,
   "metadata": {},
   "outputs": [
    {
     "data": {
      "text/plain": [
       "1275000"
      ]
     },
     "execution_count": 4,
     "metadata": {},
     "output_type": "execute_result"
    }
   ],
   "source": [
    "obj1.income()  #this will return overriden income method i.e sal+bonus"
   ]
  },
  {
   "cell_type": "code",
   "execution_count": 5,
   "metadata": {},
   "outputs": [
    {
     "data": {
      "text/plain": [
       "1250000"
      ]
     },
     "execution_count": 5,
     "metadata": {},
     "output_type": "execute_result"
    }
   ],
   "source": [
    "Emp.income(obj1)    #we are calling that income() method which is in Emp class"
   ]
  },
  {
   "cell_type": "code",
   "execution_count": null,
   "metadata": {},
   "outputs": [],
   "source": []
  }
 ],
 "metadata": {
  "kernelspec": {
   "display_name": "Python 3",
   "language": "python",
   "name": "python3"
  },
  "language_info": {
   "codemirror_mode": {
    "name": "ipython",
    "version": 3
   },
   "file_extension": ".py",
   "mimetype": "text/x-python",
   "name": "python",
   "nbconvert_exporter": "python",
   "pygments_lexer": "ipython3",
   "version": "3.7.4"
  }
 },
 "nbformat": 4,
 "nbformat_minor": 2
}

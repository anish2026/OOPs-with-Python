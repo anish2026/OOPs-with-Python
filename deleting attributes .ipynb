{
 "cells": [
  {
   "cell_type": "code",
   "execution_count": 1,
   "metadata": {},
   "outputs": [
    {
     "name": "stdout",
     "output_type": "stream",
     "text": [
      "{'name': 'Amit', 'age': 24, 'sal': 50000.0}\n",
      "{'name': 'Amit', 'age': 24, 'sal': 50000.0, 'department': 'IT'}\n",
      "Amit 24 50000.0 IT\n"
     ]
    },
    {
     "ename": "AttributeError",
     "evalue": "'Emp' object has no attribute 'age'",
     "output_type": "error",
     "traceback": [
      "\u001b[1;31m---------------------------------------------------------------------------\u001b[0m",
      "\u001b[1;31mAttributeError\u001b[0m                            Traceback (most recent call last)",
      "\u001b[1;32m<ipython-input-1-499dcde30af1>\u001b[0m in \u001b[0;36m<module>\u001b[1;34m\u001b[0m\n\u001b[0;32m     14\u001b[0m \u001b[0me1\u001b[0m\u001b[1;33m.\u001b[0m\u001b[0mshow\u001b[0m\u001b[1;33m(\u001b[0m\u001b[1;33m)\u001b[0m\u001b[1;33m\u001b[0m\u001b[1;33m\u001b[0m\u001b[0m\n\u001b[0;32m     15\u001b[0m \u001b[1;32mdel\u001b[0m \u001b[0me1\u001b[0m\u001b[1;33m.\u001b[0m\u001b[0m__dict__\u001b[0m\u001b[1;33m[\u001b[0m\u001b[1;34m'age'\u001b[0m\u001b[1;33m]\u001b[0m\u001b[1;33m\u001b[0m\u001b[1;33m\u001b[0m\u001b[0m\n\u001b[1;32m---> 16\u001b[1;33m \u001b[0me1\u001b[0m\u001b[1;33m.\u001b[0m\u001b[0mshow\u001b[0m\u001b[1;33m(\u001b[0m\u001b[1;33m)\u001b[0m\u001b[1;33m\u001b[0m\u001b[1;33m\u001b[0m\u001b[0m\n\u001b[0m",
      "\u001b[1;32m<ipython-input-1-499dcde30af1>\u001b[0m in \u001b[0;36mshow\u001b[1;34m(self)\u001b[0m\n\u001b[0;32m      7\u001b[0m         \u001b[0mself\u001b[0m\u001b[1;33m.\u001b[0m\u001b[0msal\u001b[0m\u001b[1;33m=\u001b[0m\u001b[1;36m50000.0\u001b[0m\u001b[1;33m\u001b[0m\u001b[1;33m\u001b[0m\u001b[0m\n\u001b[0;32m      8\u001b[0m     \u001b[1;32mdef\u001b[0m \u001b[0mshow\u001b[0m\u001b[1;33m(\u001b[0m\u001b[0mself\u001b[0m\u001b[1;33m)\u001b[0m\u001b[1;33m:\u001b[0m\u001b[1;33m\u001b[0m\u001b[1;33m\u001b[0m\u001b[0m\n\u001b[1;32m----> 9\u001b[1;33m         \u001b[0mprint\u001b[0m\u001b[1;33m(\u001b[0m\u001b[0mself\u001b[0m\u001b[1;33m.\u001b[0m\u001b[0mname\u001b[0m\u001b[1;33m,\u001b[0m\u001b[0mself\u001b[0m\u001b[1;33m.\u001b[0m\u001b[0mage\u001b[0m\u001b[1;33m,\u001b[0m\u001b[0mself\u001b[0m\u001b[1;33m.\u001b[0m\u001b[0msal\u001b[0m\u001b[1;33m,\u001b[0m\u001b[0mself\u001b[0m\u001b[1;33m.\u001b[0m\u001b[0mdepartment\u001b[0m\u001b[1;33m)\u001b[0m\u001b[1;33m\u001b[0m\u001b[1;33m\u001b[0m\u001b[0m\n\u001b[0m\u001b[0;32m     10\u001b[0m \u001b[0me1\u001b[0m\u001b[1;33m=\u001b[0m\u001b[0mEmp\u001b[0m\u001b[1;33m(\u001b[0m\u001b[1;33m)\u001b[0m\u001b[1;33m\u001b[0m\u001b[1;33m\u001b[0m\u001b[0m\n\u001b[0;32m     11\u001b[0m \u001b[0mprint\u001b[0m\u001b[1;33m(\u001b[0m\u001b[0me1\u001b[0m\u001b[1;33m.\u001b[0m\u001b[0m__dict__\u001b[0m\u001b[1;33m)\u001b[0m\u001b[1;33m\u001b[0m\u001b[1;33m\u001b[0m\u001b[0m\n",
      "\u001b[1;31mAttributeError\u001b[0m: 'Emp' object has no attribute 'age'"
     ]
    }
   ],
   "source": [
    "#how to delete any attribute, we use ->> del object.__dict__['/attribute we want to delte/']\n",
    "\n",
    "class Emp:\n",
    "    def __init__(self):\n",
    "        self.name=\"Amit\"\n",
    "        self.age=24\n",
    "        self.sal=50000.0\n",
    "    def show(self):\n",
    "        print(self.name,self.age,self.sal,self.department)\n",
    "e1=Emp()\n",
    "print(e1.__dict__)\n",
    "e1.__dict__['department']='IT'\n",
    "print(e1.__dict__)\n",
    "e1.show()\n",
    "del e1.__dict__['age']\n",
    "e1.show()"
   ]
  },
  {
   "cell_type": "code",
   "execution_count": 2,
   "metadata": {},
   "outputs": [],
   "source": [
    "#AttributeError: 'Emp' object has no attribute 'age'\n",
    "    #this is the output because age attribute is deleted now"
   ]
  },
  {
   "cell_type": "code",
   "execution_count": 3,
   "metadata": {},
   "outputs": [
    {
     "name": "stdout",
     "output_type": "stream",
     "text": [
      "{'name': 'Aryan', 'girlfriend': 'Mimansha'}\n",
      "{'name': 'Aryan'}\n"
     ]
    }
   ],
   "source": [
    "# 2 ways to delte/remove instance variables\n",
    "\n",
    "# 1st Using del self .<var_name> from the body of any instance method within the class\n",
    "\n",
    "\n",
    "class boy:\n",
    "    def __init__(self,name,girlfriend):\n",
    "        self.name=name\n",
    "        self.girlfriend=girlfriend\n",
    "    \n",
    "    def breakup(self):\n",
    "        del self.girlfriend\n",
    "        \n",
    "obj = boy(\"Aryan\",\"Mimansha\")\n",
    "print(obj.__dict__)\n",
    "obj.breakup()\n",
    "print(obj.__dict__)"
   ]
  },
  {
   "cell_type": "code",
   "execution_count": 4,
   "metadata": {},
   "outputs": [
    {
     "name": "stdout",
     "output_type": "stream",
     "text": [
      "{'job': 'Walmart', 'girlfriend': 'Ayushika'}\n",
      "{'job': 'Walmart'}\n",
      "{}\n"
     ]
    }
   ],
   "source": [
    "\n",
    "# 1st Using del self .<var_name> from the body of any instance method within the class\n",
    "\n",
    "class Engineer:\n",
    "    def __init__(self,job,girlfriend):\n",
    "        self.job = job\n",
    "        self.girlfriend = girlfriend\n",
    "    \n",
    "    def breakup(self):\n",
    "        del self.girlfriend\n",
    "        \n",
    "    def fire(self):\n",
    "        del self.job\n",
    "obj=Engineer(\"Walmart\",\"Ayushika\")\n",
    "print(obj.__dict__)\n",
    "obj.breakup()\n",
    "print(obj.__dict__)\n",
    "obj.fire()\n",
    "print(obj.__dict__)"
   ]
  },
  {
   "cell_type": "code",
   "execution_count": 5,
   "metadata": {},
   "outputs": [
    {
     "name": "stdout",
     "output_type": "stream",
     "text": [
      "{'girlfriend': 'Rani', 'job': 'Software Engineer'}\n",
      "{}\n"
     ]
    }
   ],
   "source": [
    "# 2nd Using del <obj_ref>.<var_name> from outside the class\n",
    "\n",
    "class Engineer:\n",
    "    def __init__(self,girlfriend,job):\n",
    "        self.girlfriend=girlfriend\n",
    "        self.job=job\n",
    "    def fired(self):\n",
    "        del self.job\n",
    "e1=Engineer(\"Rani\",\"Software Engineer\")\n",
    "print(e1.__dict__)\n",
    "e1.fired()\n",
    "del e1.girlfriend\n",
    "print(e1.__dict__)"
   ]
  },
  {
   "cell_type": "code",
   "execution_count": 6,
   "metadata": {},
   "outputs": [
    {
     "name": "stdout",
     "output_type": "stream",
     "text": [
      "{'name': 'Anish', 'subject': 'Maths', 'grade': 'S'}\n",
      "{'name': 'Anish', 'subject': 'Maths', 'grade': 'S'}\n"
     ]
    }
   ],
   "source": [
    "#by removing self there will be no affect on output as self is nothing just a reference\n",
    "\n",
    "class Student:\n",
    "    \n",
    "    def __init__(self,name,subject,grade):\n",
    "        self.name = name\n",
    "        self.subject = subject\n",
    "        self.grade = grade\n",
    "    def remove(self):\n",
    "        del self\n",
    "obj=Student(\"Anish\",\"Maths\",\"S\")\n",
    "print(obj.__dict__)\n",
    "obj.remove()\n",
    "print(obj.__dict__)"
   ]
  },
  {
   "cell_type": "code",
   "execution_count": 7,
   "metadata": {},
   "outputs": [
    {
     "name": "stdout",
     "output_type": "stream",
     "text": [
      "{'name': 'Anish', 'subject': 'Maths', 'grade': 'S'}\n",
      "{'name': 'Aryan', 'subject': 'Physics', 'grade': 'F'}\n",
      "{'name': 'Anish', 'grade': 'S'}\n",
      "{'name': 'Aryan', 'subject': 'Physics'}\n"
     ]
    }
   ],
   "source": [
    "class Student:\n",
    "    \n",
    "    def __init__(self,name,subject,grade):\n",
    "        self.name = name\n",
    "        self.subject = subject\n",
    "        self.grade = grade\n",
    "        \n",
    "e1=Student(\"Anish\",\"Maths\",\"S\")\n",
    "e2=Student(\"Aryan\",\"Physics\",\"F\")\n",
    "print(e1.__dict__)\n",
    "print(e2.__dict__)\n",
    "del e1.subject\n",
    "del e2.grade\n",
    "print(e1.__dict__)\n",
    "print(e2.__dict__)\n",
    "\n",
    "#Since instance variables have a separate copy created for every object , \n",
    "#so deleting an instance variable from one object will not effect the other object’s same instance variable\n",
    "\n",
    "        "
   ]
  },
  {
   "cell_type": "code",
   "execution_count": 8,
   "metadata": {},
   "outputs": [],
   "source": []
  },
  {
   "cell_type": "code",
   "execution_count": null,
   "metadata": {},
   "outputs": [],
   "source": []
  }
 ],
 "metadata": {
  "kernelspec": {
   "display_name": "Python 3",
   "language": "python",
   "name": "python3"
  },
  "language_info": {
   "codemirror_mode": {
    "name": "ipython",
    "version": 3
   },
   "file_extension": ".py",
   "mimetype": "text/x-python",
   "name": "python",
   "nbconvert_exporter": "python",
   "pygments_lexer": "ipython3",
   "version": "3.7.4"
  }
 },
 "nbformat": 4,
 "nbformat_minor": 2
}

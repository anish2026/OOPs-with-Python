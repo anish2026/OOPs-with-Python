{
 "cells": [
  {
   "cell_type": "code",
   "execution_count": null,
   "metadata": {},
   "outputs": [],
   "source": [
    "############################ METHOD OVERRIDING ##########################\n",
    "\n",
    "# lets take a example to understand this \n",
    "\n",
    "class student:\n",
    "    \n",
    "    def __init__(self,name,age,roll):\n",
    "        self.name = name \n",
    "        self.age = age\n",
    "        self.roll = roll\n",
    "        \n",
    "    def __repr__(self):\n",
    "        print(\"Name : \",self.name)\n",
    "        print(\"Age : \",self.age)\n",
    "        print(\"Roll no : \",self.roll)\n",
    "        \n",
    "class marks(student):\n",
    "    def __init__(self,name,age,roll,maths,english,hindi):\n",
    "        super().__init__(name,age,roll)\n",
    "        self.maths = maths\n",
    "        self.english = english \n",
    "        self.hindi = hindi \n",
    "\n",
    "        \n",
    "s1=marks(\"Anish\",20,12,98,97,96)\n",
    "print(s1)\n",
    "\n",
    "#why this is happening ?? \n",
    "\n",
    "\n",
    "#As we know , whenever we pass the name of an object reference as argument to the function print( ) , Python calls \n",
    "#the method __repr__().\n",
    "\n",
    "#But since the class marks doesn’t has this method , so Python moves up in the inheritance chain to find this method in the \n",
    "#base class student\n",
    "\n",
    "#Now since the class student has this method , Python calls the __repr__() method of student which returns only the name,age and \n",
    "#roll no.\n",
    "\n",
    "        \n",
    "    \n",
    "        "
   ]
  }
 ],
 "metadata": {
  "kernelspec": {
   "display_name": "Python 3",
   "language": "python",
   "name": "python3"
  },
  "language_info": {
   "codemirror_mode": {
    "name": "ipython",
    "version": 3
   },
   "file_extension": ".py",
   "mimetype": "text/x-python",
   "name": "python",
   "nbconvert_exporter": "python",
   "pygments_lexer": "ipython3",
   "version": "3.7.4"
  }
 },
 "nbformat": 4,
 "nbformat_minor": 2
}

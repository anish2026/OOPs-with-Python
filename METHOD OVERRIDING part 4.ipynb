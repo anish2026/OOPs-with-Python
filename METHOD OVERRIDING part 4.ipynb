{
 "cells": [
  {
   "cell_type": "code",
   "execution_count": 1,
   "metadata": {},
   "outputs": [],
   "source": [
    "# Let us understand the method overriding with one example.\n",
    "# we need to understand the use of super() keyword \n",
    "# while calling variable of any class or instance , the role of self in that."
   ]
  },
  {
   "cell_type": "code",
   "execution_count": 3,
   "metadata": {},
   "outputs": [],
   "source": [
    "\"\"\"\n",
    "     Write a program to create a class called Circle having an instance member called radius. Provide following methods in \n",
    "     Circle class\n",
    "\n",
    "__init___() : This method should accept an argument and initialize radius with it\n",
    "\n",
    "area(): This method should calculate and return Circle’s area\n",
    "\n",
    "Now create a derived class of Circle called Cylinder having an instance member called height. Provide following methods in \n",
    "Cylinder class\n",
    "\n",
    "__init___() : This method should initialize instance members  radius and height with the parameter passed. \n",
    "\n",
    "area( ): This method should override Circle’s area( ) to calculate and return area of Cylinder . ( formula: 2πr2+2πrh)\n",
    "\n",
    "volume(): This method should calculate and return Cylinder’s volume(formula: πr2h)\n",
    "\n",
    "\"\"\"\"\n",
    "\n",
    "# The above question is taken from SCA notes."
   ]
  },
  {
   "cell_type": "code",
   "execution_count": 8,
   "metadata": {},
   "outputs": [
    {
     "data": {
      "text/plain": [
       "18.84955592153876"
      ]
     },
     "execution_count": 8,
     "metadata": {},
     "output_type": "execute_result"
    }
   ],
   "source": [
    "# solution \n",
    "\n",
    "import math\n",
    "class Circle:\n",
    "    \n",
    "    def __init__(self,radius):\n",
    "        self.radius = radius \n",
    "        \n",
    "    def area(self):\n",
    "        return (math.pi)*(self.radius**2)            \n",
    "    \n",
    "class Cylinder(Circle):\n",
    "    \n",
    "    def __init__(self,radius,height):\n",
    "        super().__init__(radius)\n",
    "        self.height = height\n",
    "    \n",
    "    def area(self):\n",
    "        return super().area()*2 + 2*(math.pi)*self.radius*self.height       #any method of parent class can be called using super()\n",
    "    \n",
    "    def volume(self):\n",
    "        return super().area()*self.height\n",
    "    \n",
    "obj1 = Cylinder(1,2)\n",
    "obj1.area()\n",
    "        "
   ]
  },
  {
   "cell_type": "code",
   "execution_count": 9,
   "metadata": {},
   "outputs": [
    {
     "data": {
      "text/plain": [
       "6.283185307179586"
      ]
     },
     "execution_count": 9,
     "metadata": {},
     "output_type": "execute_result"
    }
   ],
   "source": [
    "obj1.volume()"
   ]
  },
  {
   "cell_type": "code",
   "execution_count": 10,
   "metadata": {},
   "outputs": [],
   "source": [
    "# In above codes we understood the concept of method overriding and also how to call other methods using \n",
    "# super() keyword."
   ]
  },
  {
   "cell_type": "code",
   "execution_count": null,
   "metadata": {},
   "outputs": [],
   "source": []
  }
 ],
 "metadata": {
  "kernelspec": {
   "display_name": "Python 3",
   "language": "python",
   "name": "python3"
  },
  "language_info": {
   "codemirror_mode": {
    "name": "ipython",
    "version": 3
   },
   "file_extension": ".py",
   "mimetype": "text/x-python",
   "name": "python",
   "nbconvert_exporter": "python",
   "pygments_lexer": "ipython3",
   "version": "3.7.4"
  }
 },
 "nbformat": 4,
 "nbformat_minor": 2
}

{
 "cells": [
  {
   "cell_type": "code",
   "execution_count": 1,
   "metadata": {},
   "outputs": [],
   "source": [
    "#so far we discusse about the instance method and instance class now \n",
    "#we will talk about the class method and class \n",
    "\n",
    "###### We can use a class variable at 6 places in Python:########\n",
    "\n",
    "#Inside the class body but outside any method\n",
    "\n",
    "#Inside the constructor using the name of the class\n",
    "\n",
    "#Inside instance method using name of the class\n",
    "\n",
    "#Inside classmethod using name of the class or using the special reference cls\n",
    "\n",
    "#Inside staticmethod using the name of the class\n",
    "\n",
    "#From outside the class using name of the class"
   ]
  },
  {
   "cell_type": "code",
   "execution_count": 2,
   "metadata": {},
   "outputs": [
    {
     "data": {
      "text/plain": [
       "100"
      ]
     },
     "execution_count": 2,
     "metadata": {},
     "output_type": "execute_result"
    }
   ],
   "source": [
    "class marks:\n",
    "    \n",
    "    max_marks=100 #this is called class variable #Inside the class body but outside any method\n",
    "    \n",
    "    def __init__(self,maths,physics,bio):\n",
    "        self.maths=maths\n",
    "        self.physics=physics\n",
    "        self.bio=bio\n",
    "        \n",
    "student1=marks(89,90,85)\n",
    "student2=marks(92,98,96)\n",
    "student2.max_marks"
   ]
  },
  {
   "cell_type": "code",
   "execution_count": 3,
   "metadata": {},
   "outputs": [
    {
     "name": "stdout",
     "output_type": "stream",
     "text": [
      "100\n",
      "{'history': 78, 'geography': 98, 'anthropology': 90}\n"
     ]
    }
   ],
   "source": [
    "#Inside the constructor using the name of the class\n",
    "\n",
    "class marks:\n",
    "    \n",
    "    def __init__(self,history,geography,anthropology):\n",
    "        \n",
    "        marks.max_marks = 100       # a class variable is declared inside the constructor using class_name.variable_name\n",
    "        self.history = history\n",
    "        self.geography = geography\n",
    "        self.anthropology = anthropology \n",
    "        \n",
    "student1=marks(78,98,90)\n",
    "print(student1.max_marks)\n",
    "print(student1.__dict__)"
   ]
  },
  {
   "cell_type": "code",
   "execution_count": null,
   "metadata": {},
   "outputs": [],
   "source": [
    "'''Write a program to create a class called Emp , having an instance members called name , age and sal . \n",
    "Also declare a class variable called raise_amount to store the increment percentage of sal and set it to 7.5 .\n",
    "Now provide following methods in your class\n",
    "__init___() : This method should initialize instance members  with the parameter passed\n",
    "increase_sal(): This method should calculate the increment in sal and add it to the instance member sal\n",
    "'''"
   ]
  },
  {
   "cell_type": "code",
   "execution_count": 4,
   "metadata": {},
   "outputs": [
    {
     "name": "stdout",
     "output_type": "stream",
     "text": [
      "Anish 23 125000\n",
      "Anish 23 134375.0\n",
      "Aryan 23 135000\n",
      "Aryan 23 145125.0\n"
     ]
    }
   ],
   "source": [
    "class Emp:\n",
    "    \n",
    "    raise_amount = 7.5\n",
    "    \n",
    "    def __init__(self,name,age,sal):\n",
    "        \n",
    "        self.name=name\n",
    "        self.age=age\n",
    "        self.sal=sal\n",
    "    \n",
    "    def increase_sal(self):\n",
    "        \n",
    "        self.sal = self.sal + (Emp.raise_amount*self.sal)/100        #class variable is called using class_name.variable name\n",
    "                                                                     #class variable is called in instance method\n",
    "    def show(self):\n",
    "        print(self.name,self.age,self.sal)\n",
    "        \n",
    "emp1=Emp(\"Anish\",23,125000)\n",
    "emp2=Emp(\"Aryan\",23,135000)\n",
    "emp1.show()\n",
    "emp1.increase_sal()\n",
    "emp1.show()\n",
    "emp2.show()\n",
    "emp2.increase_sal()\n",
    "emp2.show()       "
   ]
  },
  {
   "cell_type": "code",
   "execution_count": 5,
   "metadata": {},
   "outputs": [
    {
     "name": "stdout",
     "output_type": "stream",
     "text": [
      "{'__module__': '__main__', 'sal_upto': 1250000000, 'company': 'Google', '__init__': <function placement.__init__ at 0x0000025F5E3D2D38>, '__dict__': <attribute '__dict__' of 'placement' objects>, '__weakref__': <attribute '__weakref__' of 'placement' objects>, '__doc__': None}\n"
     ]
    }
   ],
   "source": [
    "class placement:\n",
    "    \n",
    "    sal_upto = 1250000000\n",
    "    company = \"Google\"\n",
    "    \n",
    "    def __init__(self,name,age,basic_sal):\n",
    "        self.name = name\n",
    "        self.age = age\n",
    "        self.basic_sal = basic_sal \n",
    "        \n",
    "senior1=placement(\"Anish\",23,900000000)\n",
    "senior1.__dict__\n",
    "print(placement.__dict__)"
   ]
  },
  {
   "cell_type": "code",
   "execution_count": null,
   "metadata": {},
   "outputs": [],
   "source": []
  }
 ],
 "metadata": {
  "kernelspec": {
   "display_name": "Python 3",
   "language": "python",
   "name": "python3"
  },
  "language_info": {
   "codemirror_mode": {
    "name": "ipython",
    "version": 3
   },
   "file_extension": ".py",
   "mimetype": "text/x-python",
   "name": "python",
   "nbconvert_exporter": "python",
   "pygments_lexer": "ipython3",
   "version": "3.7.4"
  }
 },
 "nbformat": 4,
 "nbformat_minor": 2
}

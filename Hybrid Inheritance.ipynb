{
 "cells": [
  {
   "cell_type": "code",
   "execution_count": 1,
   "metadata": {},
   "outputs": [],
   "source": [
    "######################### The Hybrid Inheritance  ######################\n",
    "\n",
    "#syntax\n",
    "\n",
    "class A:\n",
    "    pass\n",
    "class B(A):\n",
    "    pass\n",
    "class C(A):\n",
    "    pass\n",
    "class D(B,C):\n",
    "    pass"
   ]
  },
  {
   "cell_type": "code",
   "execution_count": 5,
   "metadata": {},
   "outputs": [
    {
     "name": "stdout",
     "output_type": "stream",
     "text": [
      "method1 of A is called\n",
      "method2 of B is called\n",
      "method3 of C is called\n"
     ]
    }
   ],
   "source": [
    "#example\n",
    "\n",
    "class A:\n",
    "    def method1(self):\n",
    "        print(\"method1 of A is called\")\n",
    "        \n",
    "class B(A):\n",
    "    def method2(self):\n",
    "        print(\"method2 of B is called\")\n",
    "        \n",
    "class C(A):\n",
    "    def method3(self):\n",
    "        print(\"method3 of C is called\")\n",
    "        \n",
    "class D(B,C):\n",
    "    pass\n",
    "\n",
    "obj=D()\n",
    "obj.method1()\n",
    "obj.method2()\n",
    "obj.method3()"
   ]
  },
  {
   "cell_type": "code",
   "execution_count": null,
   "metadata": {},
   "outputs": [],
   "source": []
  }
 ],
 "metadata": {
  "kernelspec": {
   "display_name": "Python 3",
   "language": "python",
   "name": "python3"
  },
  "language_info": {
   "codemirror_mode": {
    "name": "ipython",
    "version": 3
   },
   "file_extension": ".py",
   "mimetype": "text/x-python",
   "name": "python",
   "nbconvert_exporter": "python",
   "pygments_lexer": "ipython3",
   "version": "3.7.4"
  }
 },
 "nbformat": 4,
 "nbformat_minor": 2
}

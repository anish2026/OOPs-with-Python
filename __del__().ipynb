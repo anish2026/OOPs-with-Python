{
 "cells": [
  {
   "cell_type": "code",
   "execution_count": 1,
   "metadata": {},
   "outputs": [
    {
     "name": "stdout",
     "output_type": "stream",
     "text": [
      "Object created\n"
     ]
    }
   ],
   "source": [
    "# Just like we have __init__() which can be considered like a constructor as it initializes the object ,\n",
    "#similarly in Python we have another magic method called __del__().\n",
    "\n",
    "# although we have a garbage collector in python , but we often use destructor for that because garbage collector just clean up\n",
    "# the memory but not cut the connections with running database and all.\n",
    "\n",
    "# Therefore the concept of destructor arises here, its very easy to use, lets see an example.\n",
    "\n",
    "class test:\n",
    "    def __init__(self):\n",
    "        print(\"Object created\")\n",
    "        \n",
    "    def __del__(self):\n",
    "        print(\"Object destroyed\")\n",
    "        \n",
    "obj = test()\n",
    "\n",
    "#Since at the end of the code , Python collects the object through it’s garbage collector so it automatically calls \n",
    "# the __del__() method also"
   ]
  },
  {
   "cell_type": "code",
   "execution_count": 2,
   "metadata": {},
   "outputs": [
    {
     "name": "stdout",
     "output_type": "stream",
     "text": [
      "Object created\n",
      "Object destroyed\n",
      "done\n"
     ]
    }
   ],
   "source": [
    "#If we want to force Python to call the __del__() method , then we will have to forcibly destroy the object \n",
    "\n",
    "\n",
    "#To do this we have to use del operator passing it the object reference\n",
    "\n",
    "class Test:\n",
    "    def __init__(self):\n",
    "        print(\"Object created\")\n",
    "    def __del__(self):\n",
    "        print(\"Object destroyed\")\n",
    "     \n",
    "t = Test()\n",
    "del t \n",
    "print(\"done\")\n",
    "\n"
   ]
  },
  {
   "cell_type": "code",
   "execution_count": null,
   "metadata": {},
   "outputs": [],
   "source": []
  }
 ],
 "metadata": {
  "kernelspec": {
   "display_name": "Python 3",
   "language": "python",
   "name": "python3"
  },
  "language_info": {
   "codemirror_mode": {
    "name": "ipython",
    "version": 3
   },
   "file_extension": ".py",
   "mimetype": "text/x-python",
   "name": "python",
   "nbconvert_exporter": "python",
   "pygments_lexer": "ipython3",
   "version": "3.7.4"
  }
 },
 "nbformat": 4,
 "nbformat_minor": 2
}

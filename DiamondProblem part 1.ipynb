{
 "cells": [
  {
   "cell_type": "code",
   "execution_count": 1,
   "metadata": {},
   "outputs": [],
   "source": [
    "# Ambiguity in Hybrid Inheritance -------------> Diamond problem \n",
    "\n",
    "# The “diamond problem” is the generally used term for an ambiguity that arises in hybrid inheritance .\n",
    "\n",
    "\n",
    "# Suppose two classes B and C inherit from a superclass A, and another class D inherits from both B and C. \n",
    "\n",
    "# If there is a method \"m\" in A that B and C have  overridden, then the question is which version of the method does D inherit? \n"
   ]
  },
  {
   "cell_type": "code",
   "execution_count": 2,
   "metadata": {},
   "outputs": [
    {
     "name": "stdout",
     "output_type": "stream",
     "text": [
      "m of B is called\n"
     ]
    }
   ],
   "source": [
    "#case1\n",
    "\n",
    "\n",
    "class A:\n",
    "    def m(self):\n",
    "        print(\"m of A is called\")\n",
    "        \n",
    "class B(A):\n",
    "    def m(self):\n",
    "        print(\"m of B is called\")\n",
    "        \n",
    "class C(A):\n",
    "    def m(self):\n",
    "        print(\"m of C is called\")\n",
    "        \n",
    "class D(B,C):\n",
    "    pass\n",
    "\n",
    "obj=D()\n",
    "obj.m()             "
   ]
  },
  {
   "cell_type": "code",
   "execution_count": 3,
   "metadata": {},
   "outputs": [],
   "source": [
    "# Now question arises whyyyyyyyyyyyyyyyyyyyyyy??????????????????????\n",
    "# Why m of B is called although all other classes has m method too??\n",
    "\n",
    "\n",
    "# As discussed previously , Python uses MRO to search for an attribute which goes from left to right and then in depth first. \n",
    "# Now since B is the first inherited class of D so Python called m( ) of B\n",
    "\n",
    "#we can look more cases"
   ]
  },
  {
   "cell_type": "code",
   "execution_count": null,
   "metadata": {},
   "outputs": [],
   "source": []
  }
 ],
 "metadata": {
  "kernelspec": {
   "display_name": "Python 3",
   "language": "python",
   "name": "python3"
  },
  "language_info": {
   "codemirror_mode": {
    "name": "ipython",
    "version": 3
   },
   "file_extension": ".py",
   "mimetype": "text/x-python",
   "name": "python",
   "nbconvert_exporter": "python",
   "pygments_lexer": "ipython3",
   "version": "3.7.4"
  }
 },
 "nbformat": 4,
 "nbformat_minor": 2
}

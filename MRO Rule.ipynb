{
 "cells": [
  {
   "cell_type": "code",
   "execution_count": 1,
   "metadata": {},
   "outputs": [
    {
     "name": "stdout",
     "output_type": "stream",
     "text": [
      "f of A is called\n"
     ]
    }
   ],
   "source": [
    "               ########################### MRO RULE ##############################\n",
    "\n",
    "# In the multiple inheritance scenario, any specified attribute is searched first in the current class.\n",
    "# If not found, the search continues into parent classes, left-right fashion and then in depth-first without searching same\n",
    "# class twice.\n",
    "\n",
    "class A:\n",
    "    def f(self):\n",
    "        print(\"f of A is called\")\n",
    "        \n",
    "class B:\n",
    "    def f(self):\n",
    "        print(\"f of B is clled\")\n",
    "        \n",
    "class C(A,B):\n",
    "    pass\n",
    "obj=C()\n",
    "obj.f()\n",
    "    "
   ]
  },
  {
   "cell_type": "code",
   "execution_count": null,
   "metadata": {},
   "outputs": [],
   "source": []
  }
 ],
 "metadata": {
  "kernelspec": {
   "display_name": "Python 3",
   "language": "python",
   "name": "python3"
  },
  "language_info": {
   "codemirror_mode": {
    "name": "ipython",
    "version": 3
   },
   "file_extension": ".py",
   "mimetype": "text/x-python",
   "name": "python",
   "nbconvert_exporter": "python",
   "pygments_lexer": "ipython3",
   "version": "3.7.4"
  }
 },
 "nbformat": 4,
 "nbformat_minor": 2
}

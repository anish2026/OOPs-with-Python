{
 "cells": [
  {
   "cell_type": "code",
   "execution_count": 1,
   "metadata": {},
   "outputs": [
    {
     "name": "stdout",
     "output_type": "stream",
     "text": [
      "6\n",
      "20\n"
     ]
    }
   ],
   "source": [
    "################# STATIC METHOD ###################\n",
    "\n",
    "class Operation:\n",
    "    @staticmethod\n",
    "    \n",
    "    def add(a,b):\n",
    "        return a+b\n",
    "    def multiply(a,b):\n",
    "        return a*b\n",
    "    \n",
    "print(Operation.add(2,4))\n",
    "print(Operation.multiply(4,5))\n",
    "\n",
    "# So we can say this is the beauty of static method, it does not care about any reference like self(like instance method) or \n",
    "#  cls(like class method) , it only care about the parameter. Calling stattic method is also simple as we just call it by class\n",
    "# name.<static method name with suitable parameters>."
   ]
  },
  {
   "cell_type": "code",
   "execution_count": null,
   "metadata": {},
   "outputs": [],
   "source": []
  }
 ],
 "metadata": {
  "kernelspec": {
   "display_name": "Python 3",
   "language": "python",
   "name": "python3"
  },
  "language_info": {
   "codemirror_mode": {
    "name": "ipython",
    "version": 3
   },
   "file_extension": ".py",
   "mimetype": "text/x-python",
   "name": "python",
   "nbconvert_exporter": "python",
   "pygments_lexer": "ipython3",
   "version": "3.7.4"
  }
 },
 "nbformat": 4,
 "nbformat_minor": 2
}

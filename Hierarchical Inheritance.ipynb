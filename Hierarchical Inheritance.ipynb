{
 "cells": [
  {
   "cell_type": "code",
   "execution_count": 6,
   "metadata": {},
   "outputs": [
    {
     "name": "stdout",
     "output_type": "stream",
     "text": [
      "Anish 18\n",
      "192\n",
      "Priya 22\n",
      "2500000\n"
     ]
    }
   ],
   "source": [
    "#Hierarchical Inheritance\n",
    "\n",
    "        #In this type of inheritance ,one class is inherited by many sub class\n",
    "\n",
    "class SchoolMember:\n",
    "    def __init__(self,name,age):\n",
    "        self.name = name\n",
    "        self.age = age\n",
    "        \n",
    "    def show(self):\n",
    "        print(self.name,self.age)\n",
    "        \n",
    "class teacher(SchoolMember):\n",
    "    def __init__(self,name,age,sal):\n",
    "        super().__init__(name,age)\n",
    "        self.sal=sal\n",
    "        \n",
    "    def show(self):\n",
    "        super().show()\n",
    "        print(self.sal)\n",
    "        \n",
    "class student(SchoolMember):\n",
    "    def __init__(self,name,age,roll):\n",
    "        super().__init__(name,age)\n",
    "        self.roll=roll\n",
    "        \n",
    "    def show(self):\n",
    "        super().show()\n",
    "        print(self.roll)\n",
    "\n",
    "\n",
    "obj1=student(\"Anish\",18,192)\n",
    "obj1.show()\n",
    "obj2=teacher(\"Priya\",22,2500000)\n",
    "obj2.show()"
   ]
  },
  {
   "cell_type": "code",
   "execution_count": null,
   "metadata": {},
   "outputs": [],
   "source": []
  }
 ],
 "metadata": {
  "kernelspec": {
   "display_name": "Python 3",
   "language": "python",
   "name": "python3"
  },
  "language_info": {
   "codemirror_mode": {
    "name": "ipython",
    "version": 3
   },
   "file_extension": ".py",
   "mimetype": "text/x-python",
   "name": "python",
   "nbconvert_exporter": "python",
   "pygments_lexer": "ipython3",
   "version": "3.7.4"
  }
 },
 "nbformat": 4,
 "nbformat_minor": 2
}
